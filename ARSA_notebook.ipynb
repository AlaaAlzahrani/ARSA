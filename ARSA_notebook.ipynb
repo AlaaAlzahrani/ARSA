{
 "cells": [
  {
   "cell_type": "markdown",
   "metadata": {},
   "source": [
    "The Arabic Syntactic Analyzer (ARSA)"
   ]
  },
  {
   "cell_type": "markdown",
   "metadata": {},
   "source": [
    "Before we start analyzing your texts, we need to set up a few things. \n",
    "\n",
    "What you need to do:\n",
    "1. Install necessary tools (libraries)\n",
    "\n",
    "2. Prepare your files\n",
    "\n",
    "3. Run ARSA"
   ]
  },
  {
   "cell_type": "markdown",
   "metadata": {},
   "source": [
    "Step 1: Installing Libraries\n",
    "\n",
    "- First, we'll install some special tools that ARSA needs to work.\n",
    "\n",
    "- You'll see some code cells below. Just click the \"play\" button next to each one.\n",
    "\n",
    "- Wait for each to finish before moving to the next.\n",
    "\n",
    "- If you see any messages, don't worry! That's normal.\n",
    "\n",
    "After we install everything, we'll show you how to use ARSA to analyze your texts."
   ]
  },
  {
   "cell_type": "code",
   "execution_count": null,
   "metadata": {},
   "outputs": [],
   "source": [
    "!git clone https://github.com/CAMeL-Lab/camel_parser.git"
   ]
  },
  {
   "cell_type": "code",
   "execution_count": null,
   "metadata": {},
   "outputs": [],
   "source": [
    "%cd ARSA_tool\\camel_parser\n",
    "!pip install -r requirements.txt"
   ]
  },
  {
   "cell_type": "code",
   "execution_count": null,
   "metadata": {},
   "outputs": [],
   "source": [
    "%cd ARSA_tool\\camel_parser\n",
    "!python download_models.py"
   ]
  },
  {
   "cell_type": "code",
   "execution_count": null,
   "metadata": {},
   "outputs": [],
   "source": [
    "%cd ARSA_tool\\camel_parser\n",
    "!camel_data -i morphology-db-msa-s31\n",
    "!camel_data -i disambig-bert-unfactored-msa"
   ]
  },
  {
   "cell_type": "code",
   "execution_count": null,
   "metadata": {},
   "outputs": [],
   "source": [
    "%cd ARSA_tool\n",
    "!pip install -r ARSA_requirements.txt"
   ]
  },
  {
   "cell_type": "markdown",
   "metadata": {},
   "source": [
    "Step 2: Running ARSA\n",
    "\n",
    "Now that you have all the necessary tools installed, let's use ARSA to analyze your text files."
   ]
  },
  {
   "cell_type": "markdown",
   "metadata": {},
   "source": [
    "**What You Need:**\n",
    "\n",
    "- Some text files you want to analyze (up to 100 files is best)\n",
    "- Two folders: one for your text files (input) and one for the results (output)"
   ]
  },
  {
   "cell_type": "markdown",
   "metadata": {},
   "source": [
    "**Step-by-step instructions:**\n",
    "\n",
    "1) *Prepare Your Input*\n",
    "\n",
    "- Make sure you have your text files ready. These are the files you want ARSA to analyze.\n",
    "- Create a folder in Google Colab and name it something like \"My_Input_Files\".\n",
    "- Upload your text files to this folder.\n",
    "\n",
    "\n",
    "2) *Create an Output Folder*\n",
    "\n",
    "- In Google Colab, create another folder. This is where ARSA will put its results.\n",
    "- Name it something like \"My_ARSA_Results\".\n",
    "\n",
    "\n",
    "3) *Run ARSA*\n",
    "\n",
    "- Click the play button next to the code below (\"ARSA CLI code\") to run it.\n",
    "\n",
    "\n",
    "4) *Answer ARSA's Questions*\n",
    "\n",
    "- ARSA will ask you two questions:\n",
    "    - \"What's the name of your input folder?\" (Type the name you chose, like \"My_Input_Files\")\n",
    "    - \"What's the name of your output folder?\" (Type the name you chose, like \"My_ARSA_Results\")\n",
    "\n",
    "\n",
    "5) *Wait for Results*\n",
    "\n",
    "- ARSA will now process your files. This might take a few minutes.\n",
    "- When it's done, you'll find the results in your output folder."
   ]
  },
  {
   "cell_type": "code",
   "execution_count": null,
   "metadata": {},
   "outputs": [],
   "source": [
    "# ARSA CLI code\n",
    "\n",
    "from get_analysis import automatic_analyzer\n",
    "\n",
    "automatic_analyzer()"
   ]
  }
 ],
 "metadata": {
  "kernelspec": {
   "display_name": "Python 3",
   "language": "python",
   "name": "python3"
  },
  "language_info": {
   "codemirror_mode": {
    "name": "ipython",
    "version": 3
   },
   "file_extension": ".py",
   "mimetype": "text/x-python",
   "name": "python",
   "nbconvert_exporter": "python",
   "pygments_lexer": "ipython3",
   "version": "3.11.2"
  }
 },
 "nbformat": 4,
 "nbformat_minor": 2
}
